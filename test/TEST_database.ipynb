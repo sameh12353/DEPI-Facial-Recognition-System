{
  "cells": [
    {
      "cell_type": "code",
      "execution_count": 1,
      "metadata": {
        "id": "fCDlr7tRPdYV"
      },
      "outputs": [],
      "source": [
        "import firebase_admin\n",
        "from firebase_admin import credentials\n",
        "from firebase_admin import db\n",
        "import cv2\n"
      ]
    },
    {
      "cell_type": "code",
      "execution_count": 2,
      "metadata": {
        "colab": {
          "base_uri": "https://localhost:8080/"
        },
        "id": "GumgSGPOQGQh",
        "outputId": "c0ac04ec-c8e6-4e08-dd2a-048e82480a20"
      },
      "outputs": [
        {
          "data": {
            "text/plain": [
              "<firebase_admin.App at 0x7a3646b1ac50>"
            ]
          },
          "execution_count": 2,
          "metadata": {},
          "output_type": "execute_result"
        }
      ],
      "source": [
        "cred = credentials.Certificate(\"/content/face-recognition-9b48b-firebase-adminsdk-fbsvc-565c1b1282.json\")\n",
        "firebase_admin.initialize_app(\n",
        "    cred,\n",
        "    {\n",
        "        \"databaseURL\": \"https://face-recognition-9b48b-default-rtdb.europe-west1.firebasedatabase.app/Students\"\n",
        "    },\n",
        ")"
      ]
    },
    {
      "cell_type": "code",
      "execution_count": 3,
      "metadata": {
        "colab": {
          "base_uri": "https://localhost:8080/"
        },
        "id": "FYEy6QW4QD7S",
        "outputId": "16ba5444-bd4f-43b3-e0b0-c9a43ef1c345"
      },
      "outputs": [
        {
          "name": "stdout",
          "output_type": "stream",
          "text": [
            "Student ID: Student_1\n",
            "Name: sameh\n",
            "Embedding: [1111, 111]\n",
            "\n",
            "Student ID: Student_2\n",
            "Name: ahmed\n",
            "Embedding: [22, 222]\n",
            "\n"
          ]
        }
      ],
      "source": [
        "students_ref = db.reference(\"Students\")\n",
        "all_students = students_ref.get()\n",
        "\n",
        "for student_key, student_info in all_students.items():\n",
        "    print(f\"Student ID: {student_key}\")\n",
        "    print(f\"Name: {student_info['name']}\")\n",
        "    print(f\"Embedding: {student_info['embedding']}\\n\")"
      ]
    },
    {
      "cell_type": "code",
      "execution_count": 4,
      "metadata": {
        "id": "PjoqwC5vSc-C"
      },
      "outputs": [],
      "source": [
        "def add_student(student_id, name, embedding):\n",
        "    \"\"\"\n",
        "    Adds a new student to Firebase Realtime Database\n",
        "\n",
        "    Args:\n",
        "        student_id (str): Unique ID for the student (e.g., \"Student_3\")\n",
        "        name (str): Student's name\n",
        "        embedding (list): Face embedding vector\n",
        "    \"\"\"\n",
        "    try:\n",
        "        # Initialize Firebase if not already initialized\n",
        "        if not firebase_admin._apps:\n",
        "            cred = credentials.Certificate(\"/content/face-recognition-9b48b-firebase-adminsdk-fbsvc-565c1b1282.json\")\n",
        "            firebase_admin.initialize_app(cred, {\n",
        "                \"databaseURL\": \"https://face-recognition-9b48b-default-rtdb.europe-west1.firebasedatabase.app\"\n",
        "            })\n",
        "\n",
        "        # Get reference to Students node\n",
        "        students_ref = db.reference(\"Students\")\n",
        "\n",
        "        # Create student data dictionary\n",
        "        student_data = {\n",
        "            \"name\": name,\n",
        "            \"embedding\": str(embedding)  # Convert list to string for storage\n",
        "        }\n",
        "\n",
        "        # Add the student to Firebase\n",
        "        students_ref.child(student_id).set(student_data)\n",
        "\n",
        "        print(f\"✅ Successfully added student: {name} (ID: {student_id})\")\n",
        "        return True\n",
        "\n",
        "    except Exception as e:\n",
        "        print(f\"❌ Error adding student: {str(e)}\")\n",
        "        return False"
      ]
    },
    {
      "cell_type": "code",
      "execution_count": 5,
      "metadata": {
        "colab": {
          "base_uri": "https://localhost:8080/"
        },
        "id": "c52q-ZmoSs7i",
        "outputId": "3e448d8f-4998-43b8-eb2a-4589479c1fd2"
      },
      "outputs": [
        {
          "name": "stdout",
          "output_type": "stream",
          "text": [
            "✅ Successfully added student: John Doe (ID: Student_3)\n"
          ]
        },
        {
          "data": {
            "text/plain": [
              "True"
            ]
          },
          "execution_count": 5,
          "metadata": {},
          "output_type": "execute_result"
        }
      ],
      "source": [
        "add_student(\"Student_3\", \"John Doe\", [333,3333])"
      ]
    },
    {
      "cell_type": "code",
      "execution_count": 6,
      "metadata": {
        "colab": {
          "base_uri": "https://localhost:8080/"
        },
        "id": "fUqVpY4cS4Ay",
        "outputId": "6547bb67-90f9-4346-a6b1-8db9a5e3fced"
      },
      "outputs": [
        {
          "name": "stdout",
          "output_type": "stream",
          "text": [
            "Student ID: Student_1\n",
            "Name: sameh\n",
            "Embedding: [1111, 111]\n",
            "\n",
            "Student ID: Student_2\n",
            "Name: ahmed\n",
            "Embedding: [22, 222]\n",
            "\n",
            "Student ID: Student_3\n",
            "Name: John Doe\n",
            "Embedding: [333, 3333]\n",
            "\n"
          ]
        }
      ],
      "source": [
        "students_ref = db.reference(\"Students\")\n",
        "all_students = students_ref.get()\n",
        "\n",
        "for student_key, student_info in all_students.items():\n",
        "    print(f\"Student ID: {student_key}\")\n",
        "    print(f\"Name: {student_info['name']}\")\n",
        "    print(f\"Embedding: {student_info['embedding']}\\n\")"
      ]
    },
    {
      "cell_type": "code",
      "execution_count": 7,
      "metadata": {
        "id": "eET1Qf4rS8BC"
      },
      "outputs": [],
      "source": [
        "def remove_student(student_id):\n",
        "    \"\"\"\n",
        "    Removes a student from Firebase Realtime Database\n",
        "\n",
        "    Args:\n",
        "        student_id (str): ID of the student to remove (e.g., \"Student_3\")\n",
        "\n",
        "    Returns:\n",
        "        bool: True if successful, False if failed\n",
        "    \"\"\"\n",
        "    try:\n",
        "        # Initialize Firebase if not already initialized\n",
        "        if not firebase_admin._apps:\n",
        "            cred = credentials.Certificate(\"/content/face-recognition-9b48b-firebase-adminsdk-fbsvc-565c1b1282.json\")\n",
        "            firebase_admin.initialize_app(cred, {\n",
        "                \"databaseURL\": \"https://face-recognition-9b48b-default-rtdb.europe-west1.firebasedatabase.app\"\n",
        "            })\n",
        "\n",
        "        # Get reference to the specific student\n",
        "        student_ref = db.reference(f\"Students/{student_id}\")\n",
        "\n",
        "        # Check if student exists\n",
        "        if not student_ref.get():\n",
        "            print(f\"❌ Student {student_id} not found\")\n",
        "            return False\n",
        "\n",
        "        # Remove the student\n",
        "        student_ref.delete()\n",
        "\n",
        "        print(f\"✅ Successfully removed student: {student_id}\")\n",
        "        return True\n",
        "\n",
        "    except Exception as e:\n",
        "        print(f\"❌ Error removing student: {str(e)}\")\n",
        "        return False"
      ]
    },
    {
      "cell_type": "code",
      "execution_count": 8,
      "metadata": {
        "colab": {
          "base_uri": "https://localhost:8080/"
        },
        "id": "Z9Tgc0f3TPQh",
        "outputId": "c1be90dc-b3ac-490e-d9e3-54fc703bbd61"
      },
      "outputs": [
        {
          "name": "stdout",
          "output_type": "stream",
          "text": [
            "✅ Successfully removed student: Student_3\n"
          ]
        },
        {
          "data": {
            "text/plain": [
              "True"
            ]
          },
          "execution_count": 8,
          "metadata": {},
          "output_type": "execute_result"
        }
      ],
      "source": [
        "remove_student(\"Student_3\")"
      ]
    },
    {
      "cell_type": "code",
      "execution_count": 9,
      "metadata": {
        "colab": {
          "base_uri": "https://localhost:8080/"
        },
        "id": "A7hATad3TQ4x",
        "outputId": "81528a3a-c70a-4fb9-cd33-e02554489b6b"
      },
      "outputs": [
        {
          "name": "stdout",
          "output_type": "stream",
          "text": [
            "Student ID: Student_1\n",
            "Name: sameh\n",
            "Embedding: [1111, 111]\n",
            "\n",
            "Student ID: Student_2\n",
            "Name: ahmed\n",
            "Embedding: [22, 222]\n",
            "\n"
          ]
        }
      ],
      "source": [
        "students_ref = db.reference(\"Students\")\n",
        "all_students = students_ref.get()\n",
        "\n",
        "for student_key, student_info in all_students.items():\n",
        "    print(f\"Student ID: {student_key}\")\n",
        "    print(f\"Name: {student_info['name']}\")\n",
        "    print(f\"Embedding: {student_info['embedding']}\\n\")"
      ]
    },
    {
      "cell_type": "code",
      "execution_count": 10,
      "metadata": {
        "id": "wr9E49ynT6DR"
      },
      "outputs": [],
      "source": [
        "def replace_embedding(student_id, new_embedding):\n",
        "    \"\"\"\n",
        "    Replaces a student's face embedding in Firebase\n",
        "\n",
        "    Args:\n",
        "        student_id (str): ID of the student (e.g., \"Student_1\")\n",
        "        new_embedding (list): New face embedding vector\n",
        "\n",
        "    Returns:\n",
        "        bool: True if successful, False if failed\n",
        "    \"\"\"\n",
        "    try:\n",
        "        # Initialize Firebase if not already initialized\n",
        "        if not firebase_admin._apps:\n",
        "            cred = credentials.Certificate(\"/content/face-recognition-9b48b-firebase-adminsdk-fbsvc-565c1b1282.json\")\n",
        "            firebase_admin.initialize_app(cred, {\n",
        "                \"databaseURL\": \"https://face-recognition-9b48b-default-rtdb.europe-west1.firebasedatabase.app\"\n",
        "            })\n",
        "\n",
        "        # Get reference to the student's embedding\n",
        "        embedding_ref = db.reference(f\"Students/{student_id}/embedding\")\n",
        "\n",
        "        # Check if student exists\n",
        "        if not embedding_ref.get():\n",
        "            print(f\"❌ Student {student_id} not found\")\n",
        "            return False\n",
        "\n",
        "        # Update the embedding (convert list to string)\n",
        "        embedding_ref.set(str(new_embedding))\n",
        "\n",
        "        print(f\"✅ Successfully updated embedding for student: {student_id}\")\n",
        "        return True\n",
        "\n",
        "    except Exception as e:\n",
        "        print(f\"❌ Error updating embedding: {str(e)}\")\n",
        "        return False"
      ]
    },
    {
      "cell_type": "code",
      "execution_count": 11,
      "metadata": {
        "colab": {
          "base_uri": "https://localhost:8080/"
        },
        "id": "IypGc-CeUb_i",
        "outputId": "5550922b-2cd7-4285-866d-8d90cfaa4e29"
      },
      "outputs": [
        {
          "name": "stdout",
          "output_type": "stream",
          "text": [
            "✅ Successfully updated embedding for student: Student_2\n"
          ]
        },
        {
          "data": {
            "text/plain": [
              "True"
            ]
          },
          "execution_count": 11,
          "metadata": {},
          "output_type": "execute_result"
        }
      ],
      "source": [
        "replace_embedding(\"Student_2\", [444,44444])"
      ]
    },
    {
      "cell_type": "code",
      "execution_count": 12,
      "metadata": {
        "colab": {
          "base_uri": "https://localhost:8080/"
        },
        "id": "sFuBXgeIUi8i",
        "outputId": "aee475c2-dbd8-43ef-83fe-a5209d7cedc7"
      },
      "outputs": [
        {
          "name": "stdout",
          "output_type": "stream",
          "text": [
            "Student ID: Student_1\n",
            "Name: sameh\n",
            "Embedding: [1111, 111]\n",
            "\n",
            "Student ID: Student_2\n",
            "Name: ahmed\n",
            "Embedding: [444, 44444]\n",
            "\n"
          ]
        }
      ],
      "source": [
        "students_ref = db.reference(\"Students\")\n",
        "all_students = students_ref.get()\n",
        "\n",
        "for student_key, student_info in all_students.items():\n",
        "    print(f\"Student ID: {student_key}\")\n",
        "    print(f\"Name: {student_info['name']}\")\n",
        "    print(f\"Embedding: {student_info['embedding']}\\n\")"
      ]
    }
  ],
  "metadata": {
    "colab": {
      "provenance": []
    },
    "kernelspec": {
      "display_name": "Python 3",
      "name": "python3"
    },
    "language_info": {
      "name": "python"
    }
  },
  "nbformat": 4,
  "nbformat_minor": 0
}
